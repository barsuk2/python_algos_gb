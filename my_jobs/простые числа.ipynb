{
 "cells": [
  {
   "cell_type": "code",
   "execution_count": 36,
   "metadata": {
    "collapsed": true
   },
   "outputs": [
    {
     "name": "stdout",
     "output_type": "stream",
     "text": [
      "4.36 s ± 37.7 ms per loop (mean ± std. dev. of 7 runs, 1 loop each)\n"
     ]
    }
   ],
   "source": [
    "# %%timeit\n",
    "def _number(num):\n",
    "    \"\"\"\n",
    "    Алгоритм самый быстрый. Используется отсечки четных чисел и\n",
    "    для поиска остатка от деление используется - %\n",
    "    :param num:\n",
    "    :return:\n",
    "    \"\"\"\n",
    "    ind = 0\n",
    "    for i in range(1, num + 1):\n",
    "        if num % 2 ==0: continue\n",
    "        # a, b = divmod(num, i)\n",
    "        if num % i == 0:\n",
    "            ind += 1\n",
    "    if ind == 2:\n",
    "        return True  # print(f'{num} - простое число')\n",
    "\n",
    "\n",
    "prime_num = [2, 3, 5, 7] + [x for x in range(1, 10000) if _number(x) is True]"
   ]
  },
  {
   "cell_type": "code",
   "execution_count": 37,
   "outputs": [
    {
     "name": "stdout",
     "output_type": "stream",
     "text": [
      "4.85 s ± 20.1 ms per loop (mean ± std. dev. of 7 runs, 1 loop each)\n"
     ]
    }
   ],
   "source": [
    "%%timeit\n",
    "def _number(num):\n",
    "    \"\"\"\n",
    "    Алгоритм использут отсечку четных и кратных 3 чисел\n",
    "    для поиска остатка от деление используется - %\n",
    "    :param num:\n",
    "    :return:\n",
    "    \"\"\"\n",
    "    ind = 0\n",
    "    for i in range(1, num + 1):\n",
    "        if num % 2 ==0 \\\n",
    "                or num % 3 ==0: continue\n",
    "        # a, b = divmod(num, i)\n",
    "        if num % i == 0:\n",
    "            ind += 1\n",
    "    if ind == 2:\n",
    "        return True  # print(f'{num} - простое число')\n",
    "\n",
    "\n",
    "prime_num2 = [2, 3, 5, 7] + [x for x in range(1, 10000) if _number(x) is True]\n",
    "# prime_num"
   ],
   "metadata": {
    "collapsed": false,
    "pycharm": {
     "name": "#%%\n"
    }
   }
  },
  {
   "cell_type": "code",
   "execution_count": 38,
   "outputs": [
    {
     "name": "stdout",
     "output_type": "stream",
     "text": [
      "7.89 s ± 107 ms per loop (mean ± std. dev. of 7 runs, 1 loop each)\n"
     ]
    }
   ],
   "source": [
    "%%timeit\n",
    "def _number(num):\n",
    "    \"\"\"\n",
    "    Алгоритм использут отсечку четных чисел с помощью -%\n",
    "    для поиска остатка от деление используется - divmod()\n",
    "    для\n",
    "    :param num:\n",
    "    :return:\n",
    "    \"\"\"\n",
    "    ind = 0\n",
    "    for i in range(1, num + 1):\n",
    "        if num % 2 ==0 : continue\n",
    "        a, b = divmod(num, i)\n",
    "        if b == 0:\n",
    "            ind += 1\n",
    "    if ind == 2:\n",
    "        return 1  # print(f'{num} - простое число')\n",
    "    return 0  # print(f'{num} - не простое число')\n",
    "\n",
    "\n",
    "prime_num3 = [x for x in range(1, 10000) if _number(x) == 1]"
   ],
   "metadata": {
    "collapsed": false,
    "pycharm": {
     "name": "#%%\n"
    }
   }
  },
  {
   "cell_type": "code",
   "execution_count": 39,
   "outputs": [
    {
     "name": "stdout",
     "output_type": "stream",
     "text": [
      "14.6 s ± 90.1 ms per loop (mean ± std. dev. of 7 runs, 1 loop each)\n"
     ]
    }
   ],
   "source": [
    "%%timeit\n",
    "def _number(num):\n",
    "    \"\"\"\n",
    "    Алгоритм постоен на      - divmod()\n",
    "    для поиска остатка от деление используется - divmod()\n",
    "    :param num:\n",
    "    :return:\n",
    "    \"\"\"\n",
    "    ind = 0\n",
    "    for i in range(1, num + 1):\n",
    "        if divmod(num, 2)[1] == 0 : continue\n",
    "        a, b = divmod(num, i)\n",
    "        if b == 0:\n",
    "            ind += 1\n",
    "    if ind == 2:\n",
    "        return 1  # print(f'{num} - простое число')\n",
    "    return 0  # print(f'{num} - не простое число')\n",
    "\n",
    "\n",
    "prime_num4 = [x for x in range(1, 10000) if _number(x) == 1]"
   ],
   "metadata": {
    "collapsed": false,
    "pycharm": {
     "name": "#%%\n"
    }
   }
  },
  {
   "cell_type": "code",
   "execution_count": 39,
   "outputs": [],
   "source": [],
   "metadata": {
    "collapsed": false,
    "pycharm": {
     "name": "#%%\n"
    }
   }
  }
 ],
 "metadata": {
  "kernelspec": {
   "display_name": "Python 3",
   "language": "python",
   "name": "python3"
  },
  "language_info": {
   "codemirror_mode": {
    "name": "ipython",
    "version": 2
   },
   "file_extension": ".py",
   "mimetype": "text/x-python",
   "name": "python",
   "nbconvert_exporter": "python",
   "pygments_lexer": "ipython2",
   "version": "2.7.6"
  }
 },
 "nbformat": 4,
 "nbformat_minor": 0
}