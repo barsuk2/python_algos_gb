{
 "cells": [
  {
   "cell_type": "code",
   "execution_count": 44,
   "outputs": [],
   "source": [
    "import random\n",
    "mylist = [_ for _ in range(10000+1)]\n",
    "# mydict = {str(x): x for x in mylist}\n",
    "# mylist_s = set(mylist)\n",
    "# mylist_t = tuple(mylist)\n",
    "random.shuffle(mylist)"
   ],
   "metadata": {
    "collapsed": false,
    "pycharm": {
     "name": "#%%\n"
    }
   }
  },
  {
   "cell_type": "markdown",
   "source": [
    "Sentinel-Linear- Searche (A,n,x)"
   ],
   "metadata": {
    "collapsed": false,
    "pycharm": {
     "name": "#%% md\n"
    }
   }
  },
  {
   "cell_type": "code",
   "source": [
    "print(mylist[10000])"
   ],
   "metadata": {
    "collapsed": false,
    "pycharm": {
     "name": "#%%\n"
    }
   },
   "execution_count": 45,
   "outputs": [
    {
     "name": "stdout",
     "output_type": "stream",
     "text": [
      "9960\n"
     ]
    }
   ]
  },
  {
   "cell_type": "code",
   "execution_count": 46,
   "outputs": [
    {
     "name": "stdout",
     "output_type": "stream",
     "text": [
      "Идекс искомого числа = 10000\n"
     ]
    }
   ],
   "source": [
    "x =9960\n",
    "An = mylist[10000]\n",
    "mylist[10000] = x\n",
    "\n",
    "# print(mylist[10000],An)\n",
    "i = 0\n",
    "while mylist[i] != x:\n",
    "    i+=1\n",
    "# print(i)\n",
    "mylist[10000] = An\n",
    "if i<10000 or mylist[10000] == x:\n",
    "    print(f'Идекс искомого числа = {i}')\n",
    "else:\n",
    "    print('Not found')\n",
    "\n"
   ],
   "metadata": {
    "collapsed": false,
    "pycharm": {
     "name": "#%%\n"
    }
   }
  },
  {
   "cell_type": "code",
   "execution_count": 2,
   "outputs": [
    {
     "name": "stdout",
     "output_type": "stream",
     "text": [
      "1123"
     ]
    }
   ],
   "source": [
    "b, a = 1, 0\n",
    "while b < 5:\n",
    "    print(b, end='')\n",
    "    a, b = b, b+a\n",
    "\n"
   ],
   "metadata": {
    "collapsed": false,
    "pycharm": {
     "name": "#%%\n"
    }
   }
  }
 ],
 "metadata": {
  "kernelspec": {
   "display_name": "Python 3",
   "language": "python",
   "name": "python3"
  },
  "language_info": {
   "codemirror_mode": {
    "name": "ipython",
    "version": 2
   },
   "file_extension": ".py",
   "mimetype": "text/x-python",
   "name": "python",
   "nbconvert_exporter": "python",
   "pygments_lexer": "ipython2",
   "version": "2.7.6"
  }
 },
 "nbformat": 4,
 "nbformat_minor": 0
}