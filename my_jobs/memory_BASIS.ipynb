{
 "cells": [
  {
   "cell_type": "markdown",
   "source": [
    "Garbage Collector запускается когда колличество ссылок на\n",
    "объект равно нулю\n",
    "https://webdevblog.ru/osnovy-upravleniya-pamyatju-v-python/\n",
    "Модуль gc включает функции для изменения порогового значения,\n",
    "ручного запуска процесса сбора мусора, отключения процесса сбора мусора"
   ],
   "metadata": {
    "collapsed": false
   }
  },
  {
   "cell_type": "code",
   "metadata": {
    "collapsed": true,
    "pycharm": {
     "name": "#%%\n"
    }
   },
   "source": [
    "import gc\n",
    "import sys\n",
    "print(gc.get_threshold()) # вывод пороговых значения для сборщика мусора\n",
    "gc.set_threshold(900, 15, 15)\n",
    "print(gc.get_threshold()) #  измение пороговых значения для сборщика мусора\n",
    "gc.set_threshold(700, 10, 10)\n",
    "print(gc.get_threshold()) #  измение пороговых значения для сборщика мусора"
   ],
   "execution_count": 10,
   "outputs": [
    {
     "name": "stdout",
     "output_type": "stream",
     "text": [
      "(700, 10, 10)\n",
      "(900, 15, 15)\n",
      "(700, 10, 10)\n"
     ]
    }
   ]
  },
  {
   "cell_type": "markdown",
   "source": [
    "Зачем выполнять сборку мусора вручную?\n",
    "в случае цикличесуких ссылок"
   ],
   "metadata": {
    "collapsed": false
   }
  },
  {
   "cell_type": "code",
   "execution_count": 7,
   "outputs": [
    {
     "name": "stdout",
     "output_type": "stream",
     "text": [
      "ERROR: Could not find file <ipython-input-7-a85d70c3bacf>\n",
      "NOTE: %mprun can only be used on functions defined in physical files, and not in the IPython environment.\n",
      "[1, 2, 3, 4, 3]\n"
     ]
    }
   ],
   "source": [
    "def qwe():\n",
    "    list = [1,2,3,4]\n",
    "    list.append(list)\n",
    "    return list\n",
    "print(qwe())"
   ],
   "metadata": {
    "collapsed": false,
    "pycharm": {
     "name": "#%%\n"
    }
   }
  },
  {
   "cell_type": "markdown",
   "source": [
    "количество объектов, которые были собраны и удалены"
   ],
   "metadata": {
    "collapsed": false,
    "pycharm": {
     "name": "#%% md\n"
    }
   }
  },
  {
   "cell_type": "code",
   "execution_count": 8,
   "outputs": [
    {
     "name": "stdout",
     "output_type": "stream",
     "text": [
      " количество объектов, которые были собраны и удалены 19\n"
     ]
    }
   ],
   "source": [
    "n = gc.collect()\n",
    "print(' количество объектов, которые были собраны и удалены', n)"
   ],
   "metadata": {
    "collapsed": false,
    "pycharm": {
     "name": "#%%\n"
    }
   }
  },
  {
   "cell_type": "markdown",
   "source": [
    "Существует два способа выполнения сборки мусора вручную:\n",
    "сборка мусора на основе времени или события."
   ],
   "metadata": {
    "collapsed": false,
    "pycharm": {
     "name": "#%% md\n"
    }
   }
  },
  {
   "cell_type": "code",
   "source": [
    "def qwe():\n",
    "    list = [1,2,3,4]\n",
    "    list.append(list)\n",
    "    return list\n",
    "\n",
    "def main():\n",
    "    print('Create garbage ...')\n",
    "    for i in range(4):\n",
    "        qwe()\n",
    "\n",
    "    print(\"Collecting...\")\n",
    "    n = gc.collect()\n",
    "    print(\"Number of unreachable objects collected by GC:\", n)\n",
    "    print(\"Uncollectable garbage:\", gc.garbage)\n",
    "\n",
    "main()\n",
    "sys.exit()"
   ],
   "metadata": {
    "collapsed": false,
    "pycharm": {
     "name": "#%%\n"
    }
   },
   "execution_count": 11,
   "outputs": [
    {
     "name": "stdout",
     "output_type": "stream",
     "text": [
      "Create garbage ...\n",
      "Collecting...\n",
      "Number of unreachable objects collected by GC: 11\n",
      "Uncollectable garbage: []\n"
     ]
    },
    {
     "ename": "SystemExit",
     "evalue": "",
     "output_type": "error",
     "traceback": [
      "An exception has occurred, use %tb to see the full traceback.\n",
      "\u001B[1;31mSystemExit\u001B[0m\n"
     ]
    },
    {
     "name": "stderr",
     "output_type": "stream",
     "text": [
      "c:\\python37\\lib\\site-packages\\IPython\\core\\interactiveshell.py:3273: UserWarning: To exit: use 'exit', 'quit', or Ctrl-D.\n",
      "  warn(\"To exit: use 'exit', 'quit', or Ctrl-D.\", stacklevel=1)\n"
     ]
    }
   ]
  }
 ],
 "metadata": {
  "kernelspec": {
   "display_name": "Python 3",
   "language": "python",
   "name": "python3"
  },
  "language_info": {
   "codemirror_mode": {
    "name": "ipython",
    "version": 2
   },
   "file_extension": ".py",
   "mimetype": "text/x-python",
   "name": "python",
   "nbconvert_exporter": "python",
   "pygments_lexer": "ipython2",
   "version": "2.7.6"
  }
 },
 "nbformat": 4,
 "nbformat_minor": 0
}