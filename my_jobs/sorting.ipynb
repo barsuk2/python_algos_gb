{
 "cells": [
  {
   "cell_type": "markdown",
   "metadata": {
    "collapsed": true,
    "pycharm": {
     "name": "#%% md\n"
    }
   },
   "source": [
    "Алгоритм без дополнительного выделения памяти\n",
    "сортировка выбором\n",
    "Шаги алгоритма:\n",
    "\n",
    "1. находим номер минимального значения в текущем списке\n",
    "2.производим обмен этого значения со значением первой неотсортированной позиции (обмен не нужен, если минимальный элемент уже находится на данной позиции)\n",
    "3. теперь сортируем хвост списка, исключив из рассмотрения уже отсортированные элементы\n",
    "choose sort"
   ]
  },
  {
   "cell_type": "code",
   "execution_count": 1,
   "outputs": [
    {
     "data": {
      "text/plain": "[5, 0, 2, 5, 0, 7, 5, 8, 2, 1, 9]"
     },
     "execution_count": 1,
     "metadata": {},
     "output_type": "execute_result"
    }
   ],
   "source": [
    "import random\n",
    "\n",
    "mylist = [random.randint(0,10) for _ in range(11) ]\n",
    "mylist\n",
    "\n"
   ],
   "metadata": {
    "collapsed": false,
    "pycharm": {
     "name": "#%%\n"
    }
   }
  },
  {
   "cell_type": "code",
   "execution_count": 2,
   "outputs": [
    {
     "name": "stdout",
     "output_type": "stream",
     "text": [
      "[10, 1, 5, 9, 4, 7, 8, 4, 0, 3, 2]\n"
     ]
    }
   ],
   "source": [
    "l = [10, 1, 5, 9, 4, 7, 8, 4, 0, 3, 2]\n",
    "\n",
    "# l[0], l[1] = l[1], l[0]\n",
    "l[0] = 22\n",
    "print(l)"
   ],
   "metadata": {
    "collapsed": false,
    "pycharm": {
     "name": "#%%\n"
    }
   }
  },
  {
   "cell_type": "code",
   "execution_count": 6,
   "outputs": [
    {
     "ename": "SyntaxError",
     "evalue": "unexpected EOF while parsing (<ipython-input-6-b401ec5993b4>, line 6)",
     "output_type": "error",
     "traceback": [
      "\u001B[1;36m  File \u001B[1;32m\"<ipython-input-6-b401ec5993b4>\"\u001B[1;36m, line \u001B[1;32m6\u001B[0m\n\u001B[1;33m    \u001B[0m\n\u001B[1;37m    ^\u001B[0m\n\u001B[1;31mSyntaxError\u001B[0m\u001B[1;31m:\u001B[0m unexpected EOF while parsing\n"
     ]
    }
   ],
   "source": [
    "for i in mylist:\n",
    "    min_ = i\n",
    "    if i <= min_:\n",
    "        l.\n",
    "\n"
   ],
   "metadata": {
    "collapsed": false,
    "pycharm": {
     "name": "#%%\n"
    }
   }
  }
 ],
 "metadata": {
  "kernelspec": {
   "display_name": "Python 3",
   "language": "python",
   "name": "python3"
  },
  "language_info": {
   "codemirror_mode": {
    "name": "ipython",
    "version": 2
   },
   "file_extension": ".py",
   "mimetype": "text/x-python",
   "name": "python",
   "nbconvert_exporter": "python",
   "pygments_lexer": "ipython2",
   "version": "2.7.6"
  }
 },
 "nbformat": 4,
 "nbformat_minor": 0
}